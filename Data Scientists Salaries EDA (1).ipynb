{
 "cells": [
  {
   "attachments": {},
   "cell_type": "markdown",
   "id": "f995db68",
   "metadata": {},
   "source": [
    "### Data Science Job Salaries Dataset\n",
    "\n",
    "- This dataset contains details regarding the salaries of different Data science professionals in the United States based on factors like employment type, company location, etc. for the year 2020, 2021 and 2022.\n",
    "- Since 2012, Data Scientist roles have increased by 650 percent, and this rise shows no sign of stopping. The U.S. Bureau of Labor Statistics predicts that the demand for data science skills will increase another 27.9 percent by 2026. And, according to a report from McKinsey, that spells a shortage of between 140,000 and 190,000 people with analytical skills in the U.S. alone—not to mention another 1.5 million managers and analysts who will be required to understand how data analysis drives decision-making.\n",
    "- The dataset will be explored so that we can get insights on some data-driven questions"
   ]
  },
  {
   "cell_type": "markdown",
   "id": "9b87a2bf",
   "metadata": {},
   "source": [
    "#### Feature Description\n",
    "\n",
    "- work_year - The year the salary was paid.\n",
    "- Experience level - The experience level in the job during the year with the following possible values: EN Entry-level / Junior MI Mid-level / Intermediate SE Senior-level / Expert EX Executive-level / Director\n",
    "- Emploment type - The type of employement for the role: PT Part-time FT Full-time CT Contract FL Freelance\n",
    "- Job title - The role worked in during the year.\n",
    "- Salary - The total gross salary amount paid.\n",
    "- Salary in Usd - The total gross salary amount paid in USD\n",
    "- Salary Currency - The currency of the salary paid as an ISO 4217 currency code.\n",
    "- Employee Residence Employee's primary country of residence in during the work year as an ISO 3166 country code.\n",
    "- Remote ratio - The overall amount of work done remotely, possible values are as follows: 0 No remote work (less than 20%) 50 Partially remote 100 Fully remote (more than 80%)\n",
    "- Company Location - The country of the employer's main office or contracting branch as an ISO 3166 country code.\n",
    "- Company Size - The average number of people that worked for the company during the year: S less than 50 employees (small) M 50 to 250 employees (medium) L more than 250 employees (large)"
   ]
  },
  {
   "cell_type": "code",
   "execution_count": 455,
   "id": "377c2368",
   "metadata": {},
   "outputs": [],
   "source": [
    "#import pandas and numpy for data manipulation\n",
    "import pandas as pd\n",
    "import numpy as np\n",
    "#import pyplot and seaborn for visualization\n",
    "import matplotlib.pyplot as plt\n",
    "%matplotlib inline\n",
    "import seaborn as sns"
   ]
  },
  {
   "cell_type": "code",
   "execution_count": 502,
   "id": "519f799a",
   "metadata": {
    "scrolled": true
   },
   "outputs": [],
   "source": [
    "# Loading of the dataset\n",
    "data = pd.read_csv('ds_salaries.csv', index_col = False)"
   ]
  },
  {
   "cell_type": "code",
   "execution_count": 457,
   "id": "a3086368",
   "metadata": {},
   "outputs": [
    {
     "data": {
      "text/html": [
       "<div>\n",
       "<style scoped>\n",
       "    .dataframe tbody tr th:only-of-type {\n",
       "        vertical-align: middle;\n",
       "    }\n",
       "\n",
       "    .dataframe tbody tr th {\n",
       "        vertical-align: top;\n",
       "    }\n",
       "\n",
       "    .dataframe thead th {\n",
       "        text-align: right;\n",
       "    }\n",
       "</style>\n",
       "<table border=\"1\" class=\"dataframe\">\n",
       "  <thead>\n",
       "    <tr style=\"text-align: right;\">\n",
       "      <th></th>\n",
       "      <th>Unnamed: 0</th>\n",
       "      <th>work_year</th>\n",
       "      <th>experience_level</th>\n",
       "      <th>employment_type</th>\n",
       "      <th>job_title</th>\n",
       "      <th>salary</th>\n",
       "      <th>salary_currency</th>\n",
       "      <th>salary_in_usd</th>\n",
       "      <th>employee_residence</th>\n",
       "      <th>remote_ratio</th>\n",
       "      <th>company_location</th>\n",
       "      <th>company_size</th>\n",
       "    </tr>\n",
       "  </thead>\n",
       "  <tbody>\n",
       "    <tr>\n",
       "      <th>0</th>\n",
       "      <td>0</td>\n",
       "      <td>2020</td>\n",
       "      <td>MI</td>\n",
       "      <td>FT</td>\n",
       "      <td>Data Scientist</td>\n",
       "      <td>70000</td>\n",
       "      <td>EUR</td>\n",
       "      <td>79833</td>\n",
       "      <td>DE</td>\n",
       "      <td>0</td>\n",
       "      <td>DE</td>\n",
       "      <td>L</td>\n",
       "    </tr>\n",
       "    <tr>\n",
       "      <th>1</th>\n",
       "      <td>1</td>\n",
       "      <td>2020</td>\n",
       "      <td>SE</td>\n",
       "      <td>FT</td>\n",
       "      <td>Machine Learning Scientist</td>\n",
       "      <td>260000</td>\n",
       "      <td>USD</td>\n",
       "      <td>260000</td>\n",
       "      <td>JP</td>\n",
       "      <td>0</td>\n",
       "      <td>JP</td>\n",
       "      <td>S</td>\n",
       "    </tr>\n",
       "    <tr>\n",
       "      <th>2</th>\n",
       "      <td>2</td>\n",
       "      <td>2020</td>\n",
       "      <td>SE</td>\n",
       "      <td>FT</td>\n",
       "      <td>Big Data Engineer</td>\n",
       "      <td>85000</td>\n",
       "      <td>GBP</td>\n",
       "      <td>109024</td>\n",
       "      <td>GB</td>\n",
       "      <td>50</td>\n",
       "      <td>GB</td>\n",
       "      <td>M</td>\n",
       "    </tr>\n",
       "    <tr>\n",
       "      <th>3</th>\n",
       "      <td>3</td>\n",
       "      <td>2020</td>\n",
       "      <td>MI</td>\n",
       "      <td>FT</td>\n",
       "      <td>Product Data Analyst</td>\n",
       "      <td>20000</td>\n",
       "      <td>USD</td>\n",
       "      <td>20000</td>\n",
       "      <td>HN</td>\n",
       "      <td>0</td>\n",
       "      <td>HN</td>\n",
       "      <td>S</td>\n",
       "    </tr>\n",
       "    <tr>\n",
       "      <th>4</th>\n",
       "      <td>4</td>\n",
       "      <td>2020</td>\n",
       "      <td>SE</td>\n",
       "      <td>FT</td>\n",
       "      <td>Machine Learning Engineer</td>\n",
       "      <td>150000</td>\n",
       "      <td>USD</td>\n",
       "      <td>150000</td>\n",
       "      <td>US</td>\n",
       "      <td>50</td>\n",
       "      <td>US</td>\n",
       "      <td>L</td>\n",
       "    </tr>\n",
       "  </tbody>\n",
       "</table>\n",
       "</div>"
      ],
      "text/plain": [
       "   Unnamed: 0  work_year experience_level employment_type  \\\n",
       "0           0       2020               MI              FT   \n",
       "1           1       2020               SE              FT   \n",
       "2           2       2020               SE              FT   \n",
       "3           3       2020               MI              FT   \n",
       "4           4       2020               SE              FT   \n",
       "\n",
       "                    job_title  salary salary_currency  salary_in_usd  \\\n",
       "0              Data Scientist   70000             EUR          79833   \n",
       "1  Machine Learning Scientist  260000             USD         260000   \n",
       "2           Big Data Engineer   85000             GBP         109024   \n",
       "3        Product Data Analyst   20000             USD          20000   \n",
       "4   Machine Learning Engineer  150000             USD         150000   \n",
       "\n",
       "  employee_residence  remote_ratio company_location company_size  \n",
       "0                 DE             0               DE            L  \n",
       "1                 JP             0               JP            S  \n",
       "2                 GB            50               GB            M  \n",
       "3                 HN             0               HN            S  \n",
       "4                 US            50               US            L  "
      ]
     },
     "execution_count": 457,
     "metadata": {},
     "output_type": "execute_result"
    }
   ],
   "source": [
    "data.head()"
   ]
  },
  {
   "cell_type": "code",
   "execution_count": 458,
   "id": "90f881f3",
   "metadata": {},
   "outputs": [
    {
     "data": {
      "text/html": [
       "<div>\n",
       "<style scoped>\n",
       "    .dataframe tbody tr th:only-of-type {\n",
       "        vertical-align: middle;\n",
       "    }\n",
       "\n",
       "    .dataframe tbody tr th {\n",
       "        vertical-align: top;\n",
       "    }\n",
       "\n",
       "    .dataframe thead th {\n",
       "        text-align: right;\n",
       "    }\n",
       "</style>\n",
       "<table border=\"1\" class=\"dataframe\">\n",
       "  <thead>\n",
       "    <tr style=\"text-align: right;\">\n",
       "      <th></th>\n",
       "      <th>Unnamed: 0</th>\n",
       "      <th>work_year</th>\n",
       "      <th>experience_level</th>\n",
       "      <th>employment_type</th>\n",
       "      <th>job_title</th>\n",
       "      <th>salary</th>\n",
       "      <th>salary_currency</th>\n",
       "      <th>salary_in_usd</th>\n",
       "      <th>employee_residence</th>\n",
       "      <th>remote_ratio</th>\n",
       "      <th>company_location</th>\n",
       "      <th>company_size</th>\n",
       "    </tr>\n",
       "  </thead>\n",
       "  <tbody>\n",
       "    <tr>\n",
       "      <th>602</th>\n",
       "      <td>602</td>\n",
       "      <td>2022</td>\n",
       "      <td>SE</td>\n",
       "      <td>FT</td>\n",
       "      <td>Data Engineer</td>\n",
       "      <td>154000</td>\n",
       "      <td>USD</td>\n",
       "      <td>154000</td>\n",
       "      <td>US</td>\n",
       "      <td>100</td>\n",
       "      <td>US</td>\n",
       "      <td>M</td>\n",
       "    </tr>\n",
       "    <tr>\n",
       "      <th>603</th>\n",
       "      <td>603</td>\n",
       "      <td>2022</td>\n",
       "      <td>SE</td>\n",
       "      <td>FT</td>\n",
       "      <td>Data Engineer</td>\n",
       "      <td>126000</td>\n",
       "      <td>USD</td>\n",
       "      <td>126000</td>\n",
       "      <td>US</td>\n",
       "      <td>100</td>\n",
       "      <td>US</td>\n",
       "      <td>M</td>\n",
       "    </tr>\n",
       "    <tr>\n",
       "      <th>604</th>\n",
       "      <td>604</td>\n",
       "      <td>2022</td>\n",
       "      <td>SE</td>\n",
       "      <td>FT</td>\n",
       "      <td>Data Analyst</td>\n",
       "      <td>129000</td>\n",
       "      <td>USD</td>\n",
       "      <td>129000</td>\n",
       "      <td>US</td>\n",
       "      <td>0</td>\n",
       "      <td>US</td>\n",
       "      <td>M</td>\n",
       "    </tr>\n",
       "    <tr>\n",
       "      <th>605</th>\n",
       "      <td>605</td>\n",
       "      <td>2022</td>\n",
       "      <td>SE</td>\n",
       "      <td>FT</td>\n",
       "      <td>Data Analyst</td>\n",
       "      <td>150000</td>\n",
       "      <td>USD</td>\n",
       "      <td>150000</td>\n",
       "      <td>US</td>\n",
       "      <td>100</td>\n",
       "      <td>US</td>\n",
       "      <td>M</td>\n",
       "    </tr>\n",
       "    <tr>\n",
       "      <th>606</th>\n",
       "      <td>606</td>\n",
       "      <td>2022</td>\n",
       "      <td>MI</td>\n",
       "      <td>FT</td>\n",
       "      <td>AI Scientist</td>\n",
       "      <td>200000</td>\n",
       "      <td>USD</td>\n",
       "      <td>200000</td>\n",
       "      <td>IN</td>\n",
       "      <td>100</td>\n",
       "      <td>US</td>\n",
       "      <td>L</td>\n",
       "    </tr>\n",
       "  </tbody>\n",
       "</table>\n",
       "</div>"
      ],
      "text/plain": [
       "     Unnamed: 0  work_year experience_level employment_type      job_title  \\\n",
       "602         602       2022               SE              FT  Data Engineer   \n",
       "603         603       2022               SE              FT  Data Engineer   \n",
       "604         604       2022               SE              FT   Data Analyst   \n",
       "605         605       2022               SE              FT   Data Analyst   \n",
       "606         606       2022               MI              FT   AI Scientist   \n",
       "\n",
       "     salary salary_currency  salary_in_usd employee_residence  remote_ratio  \\\n",
       "602  154000             USD         154000                 US           100   \n",
       "603  126000             USD         126000                 US           100   \n",
       "604  129000             USD         129000                 US             0   \n",
       "605  150000             USD         150000                 US           100   \n",
       "606  200000             USD         200000                 IN           100   \n",
       "\n",
       "    company_location company_size  \n",
       "602               US            M  \n",
       "603               US            M  \n",
       "604               US            M  \n",
       "605               US            M  \n",
       "606               US            L  "
      ]
     },
     "execution_count": 458,
     "metadata": {},
     "output_type": "execute_result"
    }
   ],
   "source": [
    "data.tail()"
   ]
  },
  {
   "cell_type": "code",
   "execution_count": 459,
   "id": "b270d8b7",
   "metadata": {},
   "outputs": [
    {
     "data": {
      "text/plain": [
       "(607, 12)"
      ]
     },
     "execution_count": 459,
     "metadata": {},
     "output_type": "execute_result"
    }
   ],
   "source": [
    "data.shape"
   ]
  },
  {
   "cell_type": "markdown",
   "id": "17774577",
   "metadata": {},
   "source": [
    "- The dataset consists of 607 rows and 12 columns"
   ]
  },
  {
   "cell_type": "code",
   "execution_count": 460,
   "id": "3e585e08",
   "metadata": {},
   "outputs": [
    {
     "data": {
      "text/plain": [
       "Index(['Unnamed: 0', 'work_year', 'experience_level', 'employment_type',\n",
       "       'job_title', 'salary', 'salary_currency', 'salary_in_usd',\n",
       "       'employee_residence', 'remote_ratio', 'company_location',\n",
       "       'company_size'],\n",
       "      dtype='object')"
      ]
     },
     "execution_count": 460,
     "metadata": {},
     "output_type": "execute_result"
    }
   ],
   "source": [
    "data.columns"
   ]
  },
  {
   "cell_type": "code",
   "execution_count": 461,
   "id": "7bf6cfaf",
   "metadata": {},
   "outputs": [
    {
     "data": {
      "text/html": [
       "<div>\n",
       "<style scoped>\n",
       "    .dataframe tbody tr th:only-of-type {\n",
       "        vertical-align: middle;\n",
       "    }\n",
       "\n",
       "    .dataframe tbody tr th {\n",
       "        vertical-align: top;\n",
       "    }\n",
       "\n",
       "    .dataframe thead th {\n",
       "        text-align: right;\n",
       "    }\n",
       "</style>\n",
       "<table border=\"1\" class=\"dataframe\">\n",
       "  <thead>\n",
       "    <tr style=\"text-align: right;\">\n",
       "      <th></th>\n",
       "      <th>Unnamed: 0</th>\n",
       "      <th>work_year</th>\n",
       "      <th>salary</th>\n",
       "      <th>salary_in_usd</th>\n",
       "      <th>remote_ratio</th>\n",
       "    </tr>\n",
       "  </thead>\n",
       "  <tbody>\n",
       "    <tr>\n",
       "      <th>count</th>\n",
       "      <td>607.000000</td>\n",
       "      <td>607.000000</td>\n",
       "      <td>6.070000e+02</td>\n",
       "      <td>607.000000</td>\n",
       "      <td>607.00000</td>\n",
       "    </tr>\n",
       "    <tr>\n",
       "      <th>mean</th>\n",
       "      <td>303.000000</td>\n",
       "      <td>2021.405272</td>\n",
       "      <td>3.240001e+05</td>\n",
       "      <td>112297.869852</td>\n",
       "      <td>70.92257</td>\n",
       "    </tr>\n",
       "    <tr>\n",
       "      <th>std</th>\n",
       "      <td>175.370085</td>\n",
       "      <td>0.692133</td>\n",
       "      <td>1.544357e+06</td>\n",
       "      <td>70957.259411</td>\n",
       "      <td>40.70913</td>\n",
       "    </tr>\n",
       "    <tr>\n",
       "      <th>min</th>\n",
       "      <td>0.000000</td>\n",
       "      <td>2020.000000</td>\n",
       "      <td>4.000000e+03</td>\n",
       "      <td>2859.000000</td>\n",
       "      <td>0.00000</td>\n",
       "    </tr>\n",
       "    <tr>\n",
       "      <th>25%</th>\n",
       "      <td>151.500000</td>\n",
       "      <td>2021.000000</td>\n",
       "      <td>7.000000e+04</td>\n",
       "      <td>62726.000000</td>\n",
       "      <td>50.00000</td>\n",
       "    </tr>\n",
       "    <tr>\n",
       "      <th>50%</th>\n",
       "      <td>303.000000</td>\n",
       "      <td>2022.000000</td>\n",
       "      <td>1.150000e+05</td>\n",
       "      <td>101570.000000</td>\n",
       "      <td>100.00000</td>\n",
       "    </tr>\n",
       "    <tr>\n",
       "      <th>75%</th>\n",
       "      <td>454.500000</td>\n",
       "      <td>2022.000000</td>\n",
       "      <td>1.650000e+05</td>\n",
       "      <td>150000.000000</td>\n",
       "      <td>100.00000</td>\n",
       "    </tr>\n",
       "    <tr>\n",
       "      <th>max</th>\n",
       "      <td>606.000000</td>\n",
       "      <td>2022.000000</td>\n",
       "      <td>3.040000e+07</td>\n",
       "      <td>600000.000000</td>\n",
       "      <td>100.00000</td>\n",
       "    </tr>\n",
       "  </tbody>\n",
       "</table>\n",
       "</div>"
      ],
      "text/plain": [
       "       Unnamed: 0    work_year        salary  salary_in_usd  remote_ratio\n",
       "count  607.000000   607.000000  6.070000e+02     607.000000     607.00000\n",
       "mean   303.000000  2021.405272  3.240001e+05  112297.869852      70.92257\n",
       "std    175.370085     0.692133  1.544357e+06   70957.259411      40.70913\n",
       "min      0.000000  2020.000000  4.000000e+03    2859.000000       0.00000\n",
       "25%    151.500000  2021.000000  7.000000e+04   62726.000000      50.00000\n",
       "50%    303.000000  2022.000000  1.150000e+05  101570.000000     100.00000\n",
       "75%    454.500000  2022.000000  1.650000e+05  150000.000000     100.00000\n",
       "max    606.000000  2022.000000  3.040000e+07  600000.000000     100.00000"
      ]
     },
     "execution_count": 461,
     "metadata": {},
     "output_type": "execute_result"
    }
   ],
   "source": [
    "data.describe()"
   ]
  },
  {
   "cell_type": "markdown",
   "id": "dbe1ee4f",
   "metadata": {},
   "source": [
    "- The minimum salary in USD is 2,859USD while the maximum salary is 600,000USD. The average salary in USD per annum is 112,298USD, while the work year is between 2020 and 2022"
   ]
  },
  {
   "cell_type": "code",
   "execution_count": 462,
   "id": "77769256",
   "metadata": {},
   "outputs": [
    {
     "name": "stdout",
     "output_type": "stream",
     "text": [
      "<class 'pandas.core.frame.DataFrame'>\n",
      "RangeIndex: 607 entries, 0 to 606\n",
      "Data columns (total 12 columns):\n",
      " #   Column              Non-Null Count  Dtype \n",
      "---  ------              --------------  ----- \n",
      " 0   Unnamed: 0          607 non-null    int64 \n",
      " 1   work_year           607 non-null    int64 \n",
      " 2   experience_level    607 non-null    object\n",
      " 3   employment_type     607 non-null    object\n",
      " 4   job_title           607 non-null    object\n",
      " 5   salary              607 non-null    int64 \n",
      " 6   salary_currency     607 non-null    object\n",
      " 7   salary_in_usd       607 non-null    int64 \n",
      " 8   employee_residence  607 non-null    object\n",
      " 9   remote_ratio        607 non-null    int64 \n",
      " 10  company_location    607 non-null    object\n",
      " 11  company_size        607 non-null    object\n",
      "dtypes: int64(5), object(7)\n",
      "memory usage: 57.0+ KB\n"
     ]
    }
   ],
   "source": [
    "data.info()"
   ]
  },
  {
   "cell_type": "markdown",
   "id": "6a2f0671",
   "metadata": {},
   "source": [
    "### Data Cleaning"
   ]
  },
  {
   "cell_type": "markdown",
   "id": "af72b458",
   "metadata": {},
   "source": [
    "#### Checking for missing values"
   ]
  },
  {
   "cell_type": "code",
   "execution_count": 463,
   "id": "19e3946a",
   "metadata": {},
   "outputs": [
    {
     "data": {
      "text/plain": [
       "Unnamed: 0            0\n",
       "work_year             0\n",
       "experience_level      0\n",
       "employment_type       0\n",
       "job_title             0\n",
       "salary                0\n",
       "salary_currency       0\n",
       "salary_in_usd         0\n",
       "employee_residence    0\n",
       "remote_ratio          0\n",
       "company_location      0\n",
       "company_size          0\n",
       "dtype: int64"
      ]
     },
     "execution_count": 463,
     "metadata": {},
     "output_type": "execute_result"
    }
   ],
   "source": [
    "data.isnull().sum()"
   ]
  },
  {
   "cell_type": "markdown",
   "id": "84dfea8e",
   "metadata": {},
   "source": [
    "- There are no missing values in the dataset"
   ]
  },
  {
   "cell_type": "code",
   "execution_count": 464,
   "id": "1360f38a",
   "metadata": {},
   "outputs": [],
   "source": [
    "#Delete column uunamed:0\n",
    "data.drop(columns=['Unnamed: 0'], inplace=True)"
   ]
  },
  {
   "cell_type": "markdown",
   "id": "065007a9",
   "metadata": {},
   "source": [
    "- Column 'Unnamed: 0' was dropped from the dataset as it is not relevant"
   ]
  },
  {
   "cell_type": "markdown",
   "id": "6fb19d24",
   "metadata": {},
   "source": [
    "#### Checking and deleting duplicates"
   ]
  },
  {
   "cell_type": "code",
   "execution_count": 465,
   "id": "9a61893b",
   "metadata": {},
   "outputs": [
    {
     "data": {
      "text/plain": [
       "42"
      ]
     },
     "execution_count": 465,
     "metadata": {},
     "output_type": "execute_result"
    }
   ],
   "source": [
    "data.duplicated().sum()"
   ]
  },
  {
   "cell_type": "code",
   "execution_count": 466,
   "id": "985e192c",
   "metadata": {},
   "outputs": [],
   "source": [
    "data = data.drop_duplicates()"
   ]
  },
  {
   "cell_type": "code",
   "execution_count": 467,
   "id": "08f39146",
   "metadata": {},
   "outputs": [
    {
     "data": {
      "text/plain": [
       "0"
      ]
     },
     "execution_count": 467,
     "metadata": {},
     "output_type": "execute_result"
    }
   ],
   "source": [
    "data.duplicated().sum()"
   ]
  },
  {
   "cell_type": "code",
   "execution_count": 468,
   "id": "5535d28f",
   "metadata": {},
   "outputs": [],
   "source": [
    "#Creating rating function to check if Data Scientists worked Fully Remote, Partially Remote or No remote\n",
    "def rating_function(x):\n",
    "    if x == 0:\n",
    "        return \"No Remote\"\n",
    "    elif x == 50:\n",
    "        return \"Partially Remote\"\n",
    "    else:\n",
    "        return \"Fully Remote\""
   ]
  },
  {
   "cell_type": "code",
   "execution_count": 469,
   "id": "23ee926d",
   "metadata": {},
   "outputs": [],
   "source": [
    "data[\"remote_ratio_rating\"] = data[\"remote_ratio\"].apply(rating_function)"
   ]
  },
  {
   "cell_type": "code",
   "execution_count": 470,
   "id": "498bae58",
   "metadata": {},
   "outputs": [
    {
     "data": {
      "text/html": [
       "<div>\n",
       "<style scoped>\n",
       "    .dataframe tbody tr th:only-of-type {\n",
       "        vertical-align: middle;\n",
       "    }\n",
       "\n",
       "    .dataframe tbody tr th {\n",
       "        vertical-align: top;\n",
       "    }\n",
       "\n",
       "    .dataframe thead th {\n",
       "        text-align: right;\n",
       "    }\n",
       "</style>\n",
       "<table border=\"1\" class=\"dataframe\">\n",
       "  <thead>\n",
       "    <tr style=\"text-align: right;\">\n",
       "      <th></th>\n",
       "      <th>work_year</th>\n",
       "      <th>experience_level</th>\n",
       "      <th>employment_type</th>\n",
       "      <th>job_title</th>\n",
       "      <th>salary</th>\n",
       "      <th>salary_currency</th>\n",
       "      <th>salary_in_usd</th>\n",
       "      <th>employee_residence</th>\n",
       "      <th>remote_ratio</th>\n",
       "      <th>company_location</th>\n",
       "      <th>company_size</th>\n",
       "      <th>remote_ratio_rating</th>\n",
       "    </tr>\n",
       "  </thead>\n",
       "  <tbody>\n",
       "    <tr>\n",
       "      <th>0</th>\n",
       "      <td>2020</td>\n",
       "      <td>MI</td>\n",
       "      <td>FT</td>\n",
       "      <td>Data Scientist</td>\n",
       "      <td>70000</td>\n",
       "      <td>EUR</td>\n",
       "      <td>79833</td>\n",
       "      <td>DE</td>\n",
       "      <td>0</td>\n",
       "      <td>DE</td>\n",
       "      <td>L</td>\n",
       "      <td>No Remote</td>\n",
       "    </tr>\n",
       "    <tr>\n",
       "      <th>1</th>\n",
       "      <td>2020</td>\n",
       "      <td>SE</td>\n",
       "      <td>FT</td>\n",
       "      <td>Machine Learning Scientist</td>\n",
       "      <td>260000</td>\n",
       "      <td>USD</td>\n",
       "      <td>260000</td>\n",
       "      <td>JP</td>\n",
       "      <td>0</td>\n",
       "      <td>JP</td>\n",
       "      <td>S</td>\n",
       "      <td>No Remote</td>\n",
       "    </tr>\n",
       "    <tr>\n",
       "      <th>2</th>\n",
       "      <td>2020</td>\n",
       "      <td>SE</td>\n",
       "      <td>FT</td>\n",
       "      <td>Big Data Engineer</td>\n",
       "      <td>85000</td>\n",
       "      <td>GBP</td>\n",
       "      <td>109024</td>\n",
       "      <td>GB</td>\n",
       "      <td>50</td>\n",
       "      <td>GB</td>\n",
       "      <td>M</td>\n",
       "      <td>Partially Remote</td>\n",
       "    </tr>\n",
       "    <tr>\n",
       "      <th>3</th>\n",
       "      <td>2020</td>\n",
       "      <td>MI</td>\n",
       "      <td>FT</td>\n",
       "      <td>Product Data Analyst</td>\n",
       "      <td>20000</td>\n",
       "      <td>USD</td>\n",
       "      <td>20000</td>\n",
       "      <td>HN</td>\n",
       "      <td>0</td>\n",
       "      <td>HN</td>\n",
       "      <td>S</td>\n",
       "      <td>No Remote</td>\n",
       "    </tr>\n",
       "    <tr>\n",
       "      <th>4</th>\n",
       "      <td>2020</td>\n",
       "      <td>SE</td>\n",
       "      <td>FT</td>\n",
       "      <td>Machine Learning Engineer</td>\n",
       "      <td>150000</td>\n",
       "      <td>USD</td>\n",
       "      <td>150000</td>\n",
       "      <td>US</td>\n",
       "      <td>50</td>\n",
       "      <td>US</td>\n",
       "      <td>L</td>\n",
       "      <td>Partially Remote</td>\n",
       "    </tr>\n",
       "  </tbody>\n",
       "</table>\n",
       "</div>"
      ],
      "text/plain": [
       "   work_year experience_level employment_type                   job_title  \\\n",
       "0       2020               MI              FT              Data Scientist   \n",
       "1       2020               SE              FT  Machine Learning Scientist   \n",
       "2       2020               SE              FT           Big Data Engineer   \n",
       "3       2020               MI              FT        Product Data Analyst   \n",
       "4       2020               SE              FT   Machine Learning Engineer   \n",
       "\n",
       "   salary salary_currency  salary_in_usd employee_residence  remote_ratio  \\\n",
       "0   70000             EUR          79833                 DE             0   \n",
       "1  260000             USD         260000                 JP             0   \n",
       "2   85000             GBP         109024                 GB            50   \n",
       "3   20000             USD          20000                 HN             0   \n",
       "4  150000             USD         150000                 US            50   \n",
       "\n",
       "  company_location company_size remote_ratio_rating  \n",
       "0               DE            L           No Remote  \n",
       "1               JP            S           No Remote  \n",
       "2               GB            M    Partially Remote  \n",
       "3               HN            S           No Remote  \n",
       "4               US            L    Partially Remote  "
      ]
     },
     "execution_count": 470,
     "metadata": {},
     "output_type": "execute_result"
    }
   ],
   "source": [
    "data.head()"
   ]
  },
  {
   "cell_type": "code",
   "execution_count": 471,
   "id": "797320e3",
   "metadata": {},
   "outputs": [
    {
     "data": {
      "text/html": [
       "<div>\n",
       "<style scoped>\n",
       "    .dataframe tbody tr th:only-of-type {\n",
       "        vertical-align: middle;\n",
       "    }\n",
       "\n",
       "    .dataframe tbody tr th {\n",
       "        vertical-align: top;\n",
       "    }\n",
       "\n",
       "    .dataframe thead th {\n",
       "        text-align: right;\n",
       "    }\n",
       "</style>\n",
       "<table border=\"1\" class=\"dataframe\">\n",
       "  <thead>\n",
       "    <tr style=\"text-align: right;\">\n",
       "      <th></th>\n",
       "      <th>work_year</th>\n",
       "      <th>experience_level</th>\n",
       "      <th>employment_type</th>\n",
       "      <th>job_title</th>\n",
       "      <th>salary</th>\n",
       "      <th>salary_currency</th>\n",
       "      <th>salary_in_usd</th>\n",
       "      <th>employee_residence</th>\n",
       "      <th>remote_ratio</th>\n",
       "      <th>company_location</th>\n",
       "      <th>company_size</th>\n",
       "      <th>remote_ratio_rating</th>\n",
       "    </tr>\n",
       "  </thead>\n",
       "  <tbody>\n",
       "    <tr>\n",
       "      <th>602</th>\n",
       "      <td>2022</td>\n",
       "      <td>SE</td>\n",
       "      <td>FT</td>\n",
       "      <td>Data Engineer</td>\n",
       "      <td>154000</td>\n",
       "      <td>USD</td>\n",
       "      <td>154000</td>\n",
       "      <td>US</td>\n",
       "      <td>100</td>\n",
       "      <td>US</td>\n",
       "      <td>M</td>\n",
       "      <td>Fully Remote</td>\n",
       "    </tr>\n",
       "    <tr>\n",
       "      <th>603</th>\n",
       "      <td>2022</td>\n",
       "      <td>SE</td>\n",
       "      <td>FT</td>\n",
       "      <td>Data Engineer</td>\n",
       "      <td>126000</td>\n",
       "      <td>USD</td>\n",
       "      <td>126000</td>\n",
       "      <td>US</td>\n",
       "      <td>100</td>\n",
       "      <td>US</td>\n",
       "      <td>M</td>\n",
       "      <td>Fully Remote</td>\n",
       "    </tr>\n",
       "    <tr>\n",
       "      <th>604</th>\n",
       "      <td>2022</td>\n",
       "      <td>SE</td>\n",
       "      <td>FT</td>\n",
       "      <td>Data Analyst</td>\n",
       "      <td>129000</td>\n",
       "      <td>USD</td>\n",
       "      <td>129000</td>\n",
       "      <td>US</td>\n",
       "      <td>0</td>\n",
       "      <td>US</td>\n",
       "      <td>M</td>\n",
       "      <td>No Remote</td>\n",
       "    </tr>\n",
       "    <tr>\n",
       "      <th>605</th>\n",
       "      <td>2022</td>\n",
       "      <td>SE</td>\n",
       "      <td>FT</td>\n",
       "      <td>Data Analyst</td>\n",
       "      <td>150000</td>\n",
       "      <td>USD</td>\n",
       "      <td>150000</td>\n",
       "      <td>US</td>\n",
       "      <td>100</td>\n",
       "      <td>US</td>\n",
       "      <td>M</td>\n",
       "      <td>Fully Remote</td>\n",
       "    </tr>\n",
       "    <tr>\n",
       "      <th>606</th>\n",
       "      <td>2022</td>\n",
       "      <td>MI</td>\n",
       "      <td>FT</td>\n",
       "      <td>AI Scientist</td>\n",
       "      <td>200000</td>\n",
       "      <td>USD</td>\n",
       "      <td>200000</td>\n",
       "      <td>IN</td>\n",
       "      <td>100</td>\n",
       "      <td>US</td>\n",
       "      <td>L</td>\n",
       "      <td>Fully Remote</td>\n",
       "    </tr>\n",
       "  </tbody>\n",
       "</table>\n",
       "</div>"
      ],
      "text/plain": [
       "     work_year experience_level employment_type      job_title  salary  \\\n",
       "602       2022               SE              FT  Data Engineer  154000   \n",
       "603       2022               SE              FT  Data Engineer  126000   \n",
       "604       2022               SE              FT   Data Analyst  129000   \n",
       "605       2022               SE              FT   Data Analyst  150000   \n",
       "606       2022               MI              FT   AI Scientist  200000   \n",
       "\n",
       "    salary_currency  salary_in_usd employee_residence  remote_ratio  \\\n",
       "602             USD         154000                 US           100   \n",
       "603             USD         126000                 US           100   \n",
       "604             USD         129000                 US             0   \n",
       "605             USD         150000                 US           100   \n",
       "606             USD         200000                 IN           100   \n",
       "\n",
       "    company_location company_size remote_ratio_rating  \n",
       "602               US            M        Fully Remote  \n",
       "603               US            M        Fully Remote  \n",
       "604               US            M           No Remote  \n",
       "605               US            M        Fully Remote  \n",
       "606               US            L        Fully Remote  "
      ]
     },
     "execution_count": 471,
     "metadata": {},
     "output_type": "execute_result"
    }
   ],
   "source": [
    "data.tail()"
   ]
  },
  {
   "cell_type": "code",
   "execution_count": 501,
   "id": "232c3361",
   "metadata": {},
   "outputs": [
    {
     "data": {
      "text/plain": [
       "work_year                3\n",
       "experience_level         4\n",
       "employment_type          4\n",
       "job_title               50\n",
       "salary                 272\n",
       "salary_currency         17\n",
       "salary_in_usd          369\n",
       "employee_residence      57\n",
       "remote_ratio             3\n",
       "company_location        50\n",
       "company_size             3\n",
       "remote_ratio_rating      3\n",
       "dtype: int64"
      ]
     },
     "execution_count": 501,
     "metadata": {},
     "output_type": "execute_result"
    }
   ],
   "source": [
    "#Checking for Unique values\n",
    "data.nunique()"
   ]
  },
  {
   "cell_type": "code",
   "execution_count": 473,
   "id": "1313b6b1",
   "metadata": {},
   "outputs": [
    {
     "data": {
      "text/plain": [
       "Index(['work_year', 'experience_level', 'employment_type', 'job_title',\n",
       "       'salary', 'salary_currency', 'salary_in_usd', 'employee_residence',\n",
       "       'remote_ratio', 'company_location', 'company_size',\n",
       "       'remote_ratio_rating'],\n",
       "      dtype='object')"
      ]
     },
     "execution_count": 473,
     "metadata": {},
     "output_type": "execute_result"
    }
   ],
   "source": [
    "data.columns"
   ]
  },
  {
   "cell_type": "code",
   "execution_count": 474,
   "id": "893050ce",
   "metadata": {},
   "outputs": [
    {
     "name": "stdout",
     "output_type": "stream",
     "text": [
      "<class 'pandas.core.frame.DataFrame'>\n",
      "Int64Index: 565 entries, 0 to 606\n",
      "Data columns (total 12 columns):\n",
      " #   Column               Non-Null Count  Dtype \n",
      "---  ------               --------------  ----- \n",
      " 0   work_year            565 non-null    int64 \n",
      " 1   experience_level     565 non-null    object\n",
      " 2   employment_type      565 non-null    object\n",
      " 3   job_title            565 non-null    object\n",
      " 4   salary               565 non-null    int64 \n",
      " 5   salary_currency      565 non-null    object\n",
      " 6   salary_in_usd        565 non-null    int64 \n",
      " 7   employee_residence   565 non-null    object\n",
      " 8   remote_ratio         565 non-null    int64 \n",
      " 9   company_location     565 non-null    object\n",
      " 10  company_size         565 non-null    object\n",
      " 11  remote_ratio_rating  565 non-null    object\n",
      "dtypes: int64(4), object(8)\n",
      "memory usage: 57.4+ KB\n"
     ]
    }
   ],
   "source": [
    "data.info()"
   ]
  },
  {
   "cell_type": "markdown",
   "id": "86e8e540",
   "metadata": {},
   "source": [
    "#### Exploratory Data Analysis"
   ]
  },
  {
   "cell_type": "markdown",
   "id": "cee1783e",
   "metadata": {},
   "source": [
    "##### Univariate Analysis\n"
   ]
  },
  {
   "cell_type": "code",
   "execution_count": 475,
   "id": "644554e1",
   "metadata": {
    "scrolled": true
   },
   "outputs": [
    {
     "data": {
      "text/plain": [
       "Text(0.5, 1.0, 'Bar Chart For Experience Level')"
      ]
     },
     "execution_count": 475,
     "metadata": {},
     "output_type": "execute_result"
    },
    {
     "data": {
      "image/png": "[encoded data removed]",
      "text/plain": [
       "<Figure size 432x288 with 1 Axes>"
      ]
     },
     "metadata": {
      "needs_background": "light"
     },
     "output_type": "display_data"
    }
   ],
   "source": [
    "#Experience Level Counts\n",
    "data.experience_level.value_counts().plot.bar()\n",
    "plt.title(\"Bar Chart For Experience Level\", fontsize=15)"
   ]
  },
  {
   "cell_type": "markdown",
   "id": "982f426c",
   "metadata": {},
   "source": [
    "- Senior Level position tops the employee list on the experience level count, followed by Mid-Level position.\n",
    "- The Executive level position is the least on the experience level count"
   ]
  },
  {
   "cell_type": "code",
   "execution_count": 476,
   "id": "7d3412b7",
   "metadata": {
    "scrolled": true
   },
   "outputs": [
    {
     "data": {
      "text/plain": [
       "Text(0.5, 1.0, 'Bar Chart For Employment Type')"
      ]
     },
     "execution_count": 476,
     "metadata": {},
     "output_type": "execute_result"
    },
    {
     "data": {
      "image/png": "[encoded data removed]",
      "text/plain": [
       "<Figure size 432x288 with 1 Axes>"
      ]
     },
     "metadata": {
      "needs_background": "light"
     },
     "output_type": "display_data"
    }
   ],
   "source": [
    "#Employment type counts\n",
    "data.employment_type.value_counts().plot.bar()\n",
    "plt.title(\"Bar Chart For Employment Type\", fontsize=15)"
   ]
  },
  {
   "cell_type": "markdown",
   "id": "70f258f3",
   "metadata": {},
   "source": [
    "- Almost all the Data Scientists in the U.S. are employed on Full time position"
   ]
  },
  {
   "cell_type": "code",
   "execution_count": 477,
   "id": "2a6ec43a",
   "metadata": {},
   "outputs": [
    {
     "data": {
      "text/plain": [
       "employee_residence\n",
       "US    295\n",
       "GB     43\n",
       "IN     30\n",
       "CA     27\n",
       "DE     24\n",
       "FR     18\n",
       "ES     15\n",
       "GR     12\n",
       "JP      7\n",
       "PK      6\n",
       "Name: company_location, dtype: int64"
      ]
     },
     "execution_count": 477,
     "metadata": {},
     "output_type": "execute_result"
    }
   ],
   "source": [
    "#Employee Residence & Company Location\n",
    "emp_loc = data.groupby('employee_residence').count()['company_location'].sort_values(ascending=False)[:10]\n",
    "emp_loc"
   ]
  },
  {
   "cell_type": "code",
   "execution_count": 505,
   "id": "b9e732ed",
   "metadata": {},
   "outputs": [
    {
     "data": {
      "image/png": "[encoded data removed]",
      "text/plain": [
       "<Figure size 1440x576 with 1 Axes>"
      ]
     },
     "metadata": {
      "needs_background": "light"
     },
     "output_type": "display_data"
    }
   ],
   "source": [
    "plt.figure(figsize=(20,8))\n",
    "plt.title('Company Location')\n",
    "sns.countplot(x='company_location', data=data)\n",
    "plt.xlabel('Company Location')\n",
    "plt.ylabel('Counts')\n",
    "plt.show()"
   ]
  },
  {
   "cell_type": "code",
   "execution_count": 478,
   "id": "9d985cb6",
   "metadata": {},
   "outputs": [
    {
     "data": {
      "image/png": "[encoded data removed]",
      "text/plain": [
       "<Figure size 432x288 with 1 Axes>"
      ]
     },
     "metadata": {
      "needs_background": "light"
     },
     "output_type": "display_data"
    }
   ],
   "source": [
    "#plot bar chart\n",
    "fig = plt.figure()\n",
    "\n",
    "ax = fig.add_axes([3,3,1,1])\n",
    "ax.bar(emp_loc.index, emp_loc.values)\n",
    "\n",
    "plt.title(\"Bar Chart For Employee Residence & Company Location\", fontsize=15)\n",
    "\n",
    "plt.show()"
   ]
  },
  {
   "cell_type": "markdown",
   "id": "e4c7c776",
   "metadata": {},
   "source": [
    "- Almost 300 employees reside and work in US, which accounts for the highest number of the employees, while the remaining employees are spread across different countries."
   ]
  },
  {
   "cell_type": "code",
   "execution_count": 508,
   "id": "34303435",
   "metadata": {},
   "outputs": [
    {
     "data": {
      "text/plain": [
       "Text(0, 0.5, 'Count of Company Size')"
      ]
     },
     "execution_count": 508,
     "metadata": {},
     "output_type": "execute_result"
    },
    {
     "data": {
      "image/png": "[encoded data removed]",
      "text/plain": [
       "<Figure size 720x576 with 1 Axes>"
      ]
     },
     "metadata": {
      "needs_background": "light"
     },
     "output_type": "display_data"
    }
   ],
   "source": [
    "fig, ax1 = plt.subplots(figsize = (10, 8))\n",
    "viz = sns.countplot(ax=ax1, x=\"company_size\", data=data)\n",
    "viz.set_xticklabels(viz.get_xticklabels(), rotation=90)\n",
    "for i in viz.patches:\n",
    "    height = i.get_height()\n",
    "    viz.text(i.get_x() + i.get_width()/2., height + 0.1, height, ha=\"center\")\n",
    "plt.title(\"Company Size\")\n",
    "plt.ylabel(\"Count of Company Size\")"
   ]
  },
  {
   "cell_type": "markdown",
   "id": "a5d134e6",
   "metadata": {},
   "source": [
    "- Most Employees are working in Medium size category, compared with the Employees in Large and Small categories"
   ]
  },
  {
   "cell_type": "code",
   "execution_count": 480,
   "id": "88258615",
   "metadata": {},
   "outputs": [
    {
     "data": {
      "text/plain": [
       "Text(0, 0.5, 'Count')"
      ]
     },
     "execution_count": 480,
     "metadata": {},
     "output_type": "execute_result"
    },
    {
     "data": {
      "image/png": "[encoded data removed]",
      "text/plain": [
       "<Figure size 432x288 with 1 Axes>"
      ]
     },
     "metadata": {
      "needs_background": "light"
     },
     "output_type": "display_data"
    }
   ],
   "source": [
    "data.work_year.value_counts().plot.bar()\n",
    "plt.title(\"Bar Chart For Work Year\", fontsize=15)\n",
    "plt.xlabel('Work Year')\n",
    "plt.ylabel('Count')"
   ]
  },
  {
   "cell_type": "code",
   "execution_count": 507,
   "id": "b6c9d886",
   "metadata": {},
   "outputs": [
    {
     "data": {
      "text/plain": [
       "Text(0.5, 1.0, 'Work Year')"
      ]
     },
     "execution_count": 507,
     "metadata": {},
     "output_type": "execute_result"
    },
    {
     "data": {
      "image/png": "[encoded data removed]",
      "text/plain": [
       "<Figure size 432x432 with 1 Axes>"
      ]
     },
     "metadata": {},
     "output_type": "display_data"
    }
   ],
   "source": [
    "# Using Pie chat for better explanation\n",
    "plt.figure(figsize=(6,6))\n",
    "data['work_year'].value_counts().plot.pie(autopct='%.2f')\n",
    "plt.title('Work Year')"
   ]
  },
  {
   "cell_type": "markdown",
   "id": "62336b59",
   "metadata": {},
   "source": [
    "- The number of Data Scientists that worked in Year 2022 surpassed the previous years. The figure was very low in 2020, but increased by over 200% in 2021 and 400% in 2022. This shows that there is an increased demand for data scientists. "
   ]
  },
  {
   "cell_type": "code",
   "execution_count": 481,
   "id": "65fe3943",
   "metadata": {
    "scrolled": false
   },
   "outputs": [
    {
     "data": {
      "text/plain": [
       "<Figure size 720x432 with 0 Axes>"
      ]
     },
     "execution_count": 481,
     "metadata": {},
     "output_type": "execute_result"
    },
    {
     "data": {
      "image/png": "[encoded data removed]",
      "text/plain": [
       "<Figure size 576x432 with 1 Axes>"
      ]
     },
     "metadata": {
      "needs_background": "light"
     },
     "output_type": "display_data"
    },
    {
     "data": {
      "text/plain": [
       "<Figure size 720x432 with 0 Axes>"
      ]
     },
     "metadata": {},
     "output_type": "display_data"
    }
   ],
   "source": [
    "#Salary in USD\n",
    "plt.figure(figsize=(8,6))\n",
    "plt.hist(data.salary_in_usd, edgecolor='black')\n",
    "plt.title('Salary in US Dollars')\n",
    "\n",
    "plt.ylabel('Frequency')\n",
    "plt.xlabel('Salary in USD')\n",
    "plt.figure(figsize=(10,6))"
   ]
  },
  {
   "cell_type": "markdown",
   "id": "0d8c2a2e",
   "metadata": {},
   "source": [
    "- Approximately 220 employees earn between 60,000USD and 120,000USD annualy,   also 145 employees earn between 3000USD and 60,000USD, while the maximum salary is 600,000USD"
   ]
  },
  {
   "cell_type": "code",
   "execution_count": 503,
   "id": "8f3087bd",
   "metadata": {},
   "outputs": [
    {
     "data": {
      "text/plain": [
       "Text(0.5, 1.0, 'Job Title')"
      ]
     },
     "execution_count": 503,
     "metadata": {},
     "output_type": "execute_result"
    },
    {
     "data": {
      "image/png": "[encoded data removed]",
      "text/plain": [
       "<Figure size 1440x1080 with 1 Axes>"
      ]
     },
     "metadata": {
      "needs_background": "light"
     },
     "output_type": "display_data"
    }
   ],
   "source": [
    "plt.figure(figsize=(20,15))\n",
    "data['job_title'].value_counts().plot.barh()\n",
    "plt.title('Job Title')"
   ]
  },
  {
   "cell_type": "code",
   "execution_count": 482,
   "id": "9c99e43c",
   "metadata": {},
   "outputs": [
    {
     "data": {
      "text/plain": [
       "Text(0, 0.5, 'Count')"
      ]
     },
     "execution_count": 482,
     "metadata": {},
     "output_type": "execute_result"
    },
    {
     "data": {
      "image/png": "[encoded data removed]",
      "text/plain": [
       "<Figure size 432x288 with 1 Axes>"
      ]
     },
     "metadata": {
      "needs_background": "light"
     },
     "output_type": "display_data"
    }
   ],
   "source": [
    "data.remote_ratio_rating.value_counts().plot.bar()\n",
    "plt.title(\"Bar Chart For Remote Ratio\", fontsize=15)\n",
    "plt.xlabel('Remote Ratio')\n",
    "plt.ylabel('Count')\n"
   ]
  },
  {
   "cell_type": "markdown",
   "id": "5d9a3885",
   "metadata": {},
   "source": [
    "- Around 340 employees are working fully remote, compared with 120 employees that are working on no remote "
   ]
  },
  {
   "cell_type": "code",
   "execution_count": 483,
   "id": "f701e966",
   "metadata": {
    "scrolled": false
   },
   "outputs": [
    {
     "data": {
      "image/png": "[encoded data removed]",
      "text/plain": [
       "<Figure size 576x432 with 1 Axes>"
      ]
     },
     "metadata": {
      "needs_background": "light"
     },
     "output_type": "display_data"
    }
   ],
   "source": [
    "#Remote ratio by work year\n",
    "#create pivot of Remote ratio by work year\n",
    "remote_work_year = pd.crosstab(data.remote_ratio_rating,data.work_year,normalize='index')\n",
    "\n",
    "#plot the data\n",
    "remote_work_year.plot.bar(figsize=(8,6))\n",
    "\n",
    "plt.title('Remote Ratio by Work Year')\n",
    "plt.show()"
   ]
  },
  {
   "cell_type": "markdown",
   "id": "e38ddd08",
   "metadata": {},
   "source": [
    "- The number of empoloyees that worked fully remote from 2020 to 2021 increased by 240%, the figure also increased by 75% between 2021 and 2022. There is a sharp decline of over 400% on the number of employees that worked partially remote between 2021 and 2022. Also, the number of employees that worked on No remote rapidly increased between 2020 and 2022. This shows that most employees are now working on No remote"
   ]
  },
  {
   "cell_type": "code",
   "execution_count": 484,
   "id": "bc7c131d",
   "metadata": {},
   "outputs": [
    {
     "data": {
      "text/html": [
       "<div>\n",
       "<style scoped>\n",
       "    .dataframe tbody tr th:only-of-type {\n",
       "        vertical-align: middle;\n",
       "    }\n",
       "\n",
       "    .dataframe tbody tr th {\n",
       "        vertical-align: top;\n",
       "    }\n",
       "\n",
       "    .dataframe thead th {\n",
       "        text-align: right;\n",
       "    }\n",
       "</style>\n",
       "<table border=\"1\" class=\"dataframe\">\n",
       "  <thead>\n",
       "    <tr style=\"text-align: right;\">\n",
       "      <th>experience_level</th>\n",
       "      <th>EN</th>\n",
       "      <th>EX</th>\n",
       "      <th>MI</th>\n",
       "      <th>SE</th>\n",
       "    </tr>\n",
       "    <tr>\n",
       "      <th>employment_type</th>\n",
       "      <th></th>\n",
       "      <th></th>\n",
       "      <th></th>\n",
       "      <th></th>\n",
       "    </tr>\n",
       "  </thead>\n",
       "  <tbody>\n",
       "    <tr>\n",
       "      <th>CT</th>\n",
       "      <td>2</td>\n",
       "      <td>1</td>\n",
       "      <td>1</td>\n",
       "      <td>1</td>\n",
       "    </tr>\n",
       "    <tr>\n",
       "      <th>FL</th>\n",
       "      <td>0</td>\n",
       "      <td>0</td>\n",
       "      <td>3</td>\n",
       "      <td>1</td>\n",
       "    </tr>\n",
       "    <tr>\n",
       "      <th>FT</th>\n",
       "      <td>79</td>\n",
       "      <td>25</td>\n",
       "      <td>201</td>\n",
       "      <td>241</td>\n",
       "    </tr>\n",
       "    <tr>\n",
       "      <th>PT</th>\n",
       "      <td>7</td>\n",
       "      <td>0</td>\n",
       "      <td>3</td>\n",
       "      <td>0</td>\n",
       "    </tr>\n",
       "  </tbody>\n",
       "</table>\n",
       "</div>"
      ],
      "text/plain": [
       "experience_level  EN  EX   MI   SE\n",
       "employment_type                   \n",
       "CT                 2   1    1    1\n",
       "FL                 0   0    3    1\n",
       "FT                79  25  201  241\n",
       "PT                 7   0    3    0"
      ]
     },
     "execution_count": 484,
     "metadata": {},
     "output_type": "execute_result"
    }
   ],
   "source": [
    "#Employment Type by Experience Level\n",
    "\n",
    "employment_experience_table = pd.crosstab(index=data[\"employment_type\"], columns=data[\"experience_level\"])\n",
    "employment_experience_table"
   ]
  },
  {
   "cell_type": "code",
   "execution_count": 485,
   "id": "e9f59a81",
   "metadata": {
    "scrolled": false
   },
   "outputs": [
    {
     "data": {
      "text/plain": [
       "<AxesSubplot: xlabel='employment_type'>"
      ]
     },
     "execution_count": 485,
     "metadata": {},
     "output_type": "execute_result"
    },
    {
     "data": {
      "image/png": "[encoded data removed]",
      "text/plain": [
       "<Figure size 576x432 with 1 Axes>"
      ]
     },
     "metadata": {
      "needs_background": "light"
     },
     "output_type": "display_data"
    }
   ],
   "source": [
    "employment_experience_table.plot(kind=\"bar\", figsize=(8,6))"
   ]
  },
  {
   "cell_type": "markdown",
   "id": "dda7990f",
   "metadata": {},
   "source": [
    "- Majority of the company's workforce are Full Staff, with Senior Level having the highest number of employees, followed by Mid Level"
   ]
  },
  {
   "cell_type": "code",
   "execution_count": 486,
   "id": "e0041e18",
   "metadata": {},
   "outputs": [
    {
     "data": {
      "text/plain": [
       "job_title\n",
       "Data Scientist    130\n",
       "Data Engineer     121\n",
       "Data Analyst       82\n",
       "Name: experience_level, dtype: int64"
      ]
     },
     "execution_count": 486,
     "metadata": {},
     "output_type": "execute_result"
    }
   ],
   "source": [
    "#Top 3 Job Title by Experience Level\n",
    "job_experience_table = data.groupby('job_title').experience_level.count().sort_values(ascending=False)[:3]\n",
    "job_experience_table"
   ]
  },
  {
   "cell_type": "code",
   "execution_count": 487,
   "id": "987173e9",
   "metadata": {
    "scrolled": false
   },
   "outputs": [
    {
     "data": {
      "image/png": "[encoded data removed]",
      "text/plain": [
       "<Figure size 576x432 with 1 Axes>"
      ]
     },
     "metadata": {
      "needs_background": "light"
     },
     "output_type": "display_data"
    }
   ],
   "source": [
    "job_experience_table.plot(kind=\"bar\", figsize=(8,6))\n",
    "plt.tick_params(axis='x', labelrotation = 75)"
   ]
  },
  {
   "cell_type": "markdown",
   "id": "0d78035a",
   "metadata": {},
   "source": [
    "- The three job titles by experience level are Data Scientists, Data Engineer and Data Analysts"
   ]
  },
  {
   "cell_type": "code",
   "execution_count": 488,
   "id": "69f47871",
   "metadata": {},
   "outputs": [
    {
     "data": {
      "text/html": [
       "<div>\n",
       "<style scoped>\n",
       "    .dataframe tbody tr th:only-of-type {\n",
       "        vertical-align: middle;\n",
       "    }\n",
       "\n",
       "    .dataframe tbody tr th {\n",
       "        vertical-align: top;\n",
       "    }\n",
       "\n",
       "    .dataframe thead th {\n",
       "        text-align: right;\n",
       "    }\n",
       "</style>\n",
       "<table border=\"1\" class=\"dataframe\">\n",
       "  <thead>\n",
       "    <tr style=\"text-align: right;\">\n",
       "      <th>experience_level</th>\n",
       "      <th>EN</th>\n",
       "      <th>EX</th>\n",
       "      <th>MI</th>\n",
       "      <th>SE</th>\n",
       "    </tr>\n",
       "    <tr>\n",
       "      <th>company_size</th>\n",
       "      <th></th>\n",
       "      <th></th>\n",
       "      <th></th>\n",
       "      <th></th>\n",
       "    </tr>\n",
       "  </thead>\n",
       "  <tbody>\n",
       "    <tr>\n",
       "      <th>L</th>\n",
       "      <td>29</td>\n",
       "      <td>11</td>\n",
       "      <td>84</td>\n",
       "      <td>69</td>\n",
       "    </tr>\n",
       "    <tr>\n",
       "      <th>M</th>\n",
       "      <td>30</td>\n",
       "      <td>12</td>\n",
       "      <td>96</td>\n",
       "      <td>152</td>\n",
       "    </tr>\n",
       "    <tr>\n",
       "      <th>S</th>\n",
       "      <td>29</td>\n",
       "      <td>3</td>\n",
       "      <td>28</td>\n",
       "      <td>22</td>\n",
       "    </tr>\n",
       "  </tbody>\n",
       "</table>\n",
       "</div>"
      ],
      "text/plain": [
       "experience_level  EN  EX  MI   SE\n",
       "company_size                     \n",
       "L                 29  11  84   69\n",
       "M                 30  12  96  152\n",
       "S                 29   3  28   22"
      ]
     },
     "execution_count": 488,
     "metadata": {},
     "output_type": "execute_result"
    }
   ],
   "source": [
    "#Company Size by Experience Level\n",
    "\n",
    "size_experience_table = pd.crosstab(index=data[\"company_size\"], columns=data[\"experience_level\"])\n",
    "size_experience_table"
   ]
  },
  {
   "cell_type": "code",
   "execution_count": 489,
   "id": "fdec98d1",
   "metadata": {},
   "outputs": [
    {
     "data": {
      "text/plain": [
       "<AxesSubplot: xlabel='company_size'>"
      ]
     },
     "execution_count": 489,
     "metadata": {},
     "output_type": "execute_result"
    },
    {
     "data": {
      "image/png": "[encoded data removed]",
      "text/plain": [
       "<Figure size 576x432 with 1 Axes>"
      ]
     },
     "metadata": {
      "needs_background": "light"
     },
     "output_type": "display_data"
    }
   ],
   "source": [
    "size_experience_table.plot(kind=\"bar\", figsize=(8,6), stacked=True)"
   ]
  },
  {
   "cell_type": "markdown",
   "id": "d9c78392",
   "metadata": {},
   "source": [
    "- Medium Size category have the highest number of employees in the company, with Senior Level staff having the highest in the category"
   ]
  },
  {
   "cell_type": "code",
   "execution_count": 490,
   "id": "587608cb",
   "metadata": {},
   "outputs": [
    {
     "data": {
      "text/plain": [
       "Text(0, 0.5, 'Count')"
      ]
     },
     "execution_count": 490,
     "metadata": {},
     "output_type": "execute_result"
    },
    {
     "data": {
      "image/png": "[encoded data removed]",
      "text/plain": [
       "<Figure size 432x288 with 1 Axes>"
      ]
     },
     "metadata": {
      "needs_background": "light"
     },
     "output_type": "display_data"
    }
   ],
   "source": [
    "#Experience Level\n",
    "data.experience_level.value_counts().plot.bar()\n",
    "plt.title(\"Bar Chart For Experience Level\", fontsize=15)\n",
    "plt.xlabel('Experience Level')\n",
    "plt.ylabel('Count')"
   ]
  },
  {
   "cell_type": "markdown",
   "id": "da2efa81",
   "metadata": {},
   "source": [
    "- The Company employs more Senior Level staff than other levels of staff. The Executive Level category has the lowest number of employees"
   ]
  },
  {
   "cell_type": "code",
   "execution_count": 491,
   "id": "bcba53fa",
   "metadata": {},
   "outputs": [
    {
     "data": {
      "text/plain": [
       "work_year\n",
       "2021    118352233\n",
       "2022     45151490\n",
       "2020     27531809\n",
       "Name: salary, dtype: int64"
      ]
     },
     "execution_count": 491,
     "metadata": {},
     "output_type": "execute_result"
    }
   ],
   "source": [
    "#Salary by work year\n",
    "sal_year_table = data.groupby('work_year').salary.sum().sort_values(ascending=False)\n",
    "sal_year_table"
   ]
  },
  {
   "cell_type": "code",
   "execution_count": 492,
   "id": "572abea3",
   "metadata": {},
   "outputs": [
    {
     "data": {
      "text/plain": [
       "<AxesSubplot: xlabel='work_year'>"
      ]
     },
     "execution_count": 492,
     "metadata": {},
     "output_type": "execute_result"
    },
    {
     "data": {
      "image/png": "[encoded data removed]",
      "text/plain": [
       "<Figure size 432x288 with 1 Axes>"
      ]
     },
     "metadata": {
      "needs_background": "light"
     },
     "output_type": "display_data"
    }
   ],
   "source": [
    "sal_year_table.plot(kind=\"bar\")"
   ]
  },
  {
   "cell_type": "markdown",
   "id": "a33d4f05",
   "metadata": {},
   "source": [
    "- The company spent more on salary in year 2021 more than other years. However, the figure drastically reduced by over 200% in year 2022"
   ]
  },
  {
   "cell_type": "code",
   "execution_count": 493,
   "id": "e477b22e",
   "metadata": {},
   "outputs": [
    {
     "data": {
      "text/plain": [
       "experience_level\n",
       "MI    101926808\n",
       "SE     54718073\n",
       "EN     23286776\n",
       "EX     11103875\n",
       "Name: salary, dtype: int64"
      ]
     },
     "execution_count": 493,
     "metadata": {},
     "output_type": "execute_result"
    }
   ],
   "source": [
    "#Salary by Experience Level\n",
    "sal_exp_table = data.groupby('experience_level').salary.sum().sort_values(ascending=False)\n",
    "sal_exp_table"
   ]
  },
  {
   "cell_type": "code",
   "execution_count": 494,
   "id": "eec88088",
   "metadata": {},
   "outputs": [
    {
     "data": {
      "text/plain": [
       "<AxesSubplot: xlabel='experience_level'>"
      ]
     },
     "execution_count": 494,
     "metadata": {},
     "output_type": "execute_result"
    },
    {
     "data": {
      "image/png": "[encoded data removed]",
      "text/plain": [
       "<Figure size 432x288 with 1 Axes>"
      ]
     },
     "metadata": {
      "needs_background": "light"
     },
     "output_type": "display_data"
    }
   ],
   "source": [
    "sal_exp_table.plot(kind=\"bar\")"
   ]
  },
  {
   "cell_type": "markdown",
   "id": "615af0e1",
   "metadata": {},
   "source": [
    "- The Mid-Level staff have the highest cumulative salary, followed by the Senior Level category"
   ]
  },
  {
   "cell_type": "code",
   "execution_count": 495,
   "id": "1fa95d4e",
   "metadata": {},
   "outputs": [
    {
     "data": {
      "text/plain": [
       "company_size\n",
       "L    116770912\n",
       "M     42972689\n",
       "S     31291931\n",
       "Name: salary, dtype: int64"
      ]
     },
     "execution_count": 495,
     "metadata": {},
     "output_type": "execute_result"
    }
   ],
   "source": [
    "#Salary by Company Size\n",
    "sal_size_table = data.groupby('company_size').salary.sum().sort_values(ascending=False)\n",
    "sal_size_table"
   ]
  },
  {
   "cell_type": "code",
   "execution_count": 496,
   "id": "b2e6a55c",
   "metadata": {},
   "outputs": [
    {
     "data": {
      "text/plain": [
       "<AxesSubplot: xlabel='company_size'>"
      ]
     },
     "execution_count": 496,
     "metadata": {},
     "output_type": "execute_result"
    },
    {
     "data": {
      "image/png": "[encoded data removed]",
      "text/plain": [
       "<Figure size 432x288 with 1 Axes>"
      ]
     },
     "metadata": {
      "needs_background": "light"
     },
     "output_type": "display_data"
    }
   ],
   "source": [
    "sal_size_table.plot(kind=\"bar\")"
   ]
  },
  {
   "cell_type": "markdown",
   "id": "ed164788",
   "metadata": {},
   "source": [
    "- Large size company have the highest cumulative salary, followed by Medium and then Low"
   ]
  },
  {
   "cell_type": "code",
   "execution_count": 510,
   "id": "ae8465ea",
   "metadata": {},
   "outputs": [
    {
     "data": {
      "image/png": "[encoded data removed]",
      "text/plain": [
       "<Figure size 1440x1080 with 1 Axes>"
      ]
     },
     "metadata": {
      "needs_background": "light"
     },
     "output_type": "display_data"
    }
   ],
   "source": [
    "#Highest salaries by job title\n",
    "data.salary_in_usd = data.salary_in_usd.astype(float)\n",
    "salary_list = list(data['job_title'].unique())\n",
    "salary_ratio = []\n",
    "for i in salary_list:\n",
    "    x = data[data['job_title']==i]\n",
    "    salary_rate = sum(x.salary_in_usd)/len(x)\n",
    "    salary_ratio.append(salary_rate)\n",
    "df1 = pd.DataFrame({'salary_list':salary_list,'salary_ratio':salary_ratio})\n",
    "new_index = (df1['salary_ratio'].sort_values(ascending=False)).index.values\n",
    "sorted_data = df1.reindex(new_index)\n",
    "\n",
    "# showing visualization\n",
    "plt.figure(figsize=(20,15))\n",
    "sns.barplot(x=sorted_data['salary_list'], y=sorted_data['salary_ratio'])\n",
    "plt.xticks(rotation= 90)\n",
    "plt.xlabel('Job Title')\n",
    "plt.ylabel('Salary')\n",
    "plt.title('Salary by Job Title')\n",
    "plt.show()"
   ]
  },
  {
   "cell_type": "markdown",
   "id": "70d88721",
   "metadata": {},
   "source": [
    "- The professions that have the highest salaries are Data Analytics Lead, Principal Data Engineers & Financial Data Analysts"
   ]
  },
  {
   "cell_type": "code",
   "execution_count": 499,
   "id": "00b47fff",
   "metadata": {},
   "outputs": [
    {
     "data": {
      "text/plain": [
       "company_location\n",
       "CL    3.040000e+07\n",
       "HU    1.100000e+07\n",
       "JP    3.408667e+06\n",
       "IN    2.065208e+06\n",
       "AS    1.335000e+06\n",
       "MX    2.793333e+05\n",
       "CH    2.750000e+05\n",
       "CN    1.995000e+05\n",
       "US    1.930337e+05\n",
       "DK    1.850000e+05\n",
       "Name: salary, dtype: float64"
      ]
     },
     "execution_count": 499,
     "metadata": {},
     "output_type": "execute_result"
    }
   ],
   "source": [
    "#Average Salary by Company Location\n",
    "avg_sal_location_table = data.groupby('company_location').salary.mean().sort_values(ascending=False)[:10]\n",
    "avg_sal_location_table"
   ]
  },
  {
   "cell_type": "code",
   "execution_count": 500,
   "id": "1e5ba6a6",
   "metadata": {},
   "outputs": [
    {
     "data": {
      "text/plain": [
       "<AxesSubplot: xlabel='company_location'>"
      ]
     },
     "execution_count": 500,
     "metadata": {},
     "output_type": "execute_result"
    },
    {
     "data": {
      "image/png": "[encoded data removed]",
      "text/plain": [
       "<Figure size 648x432 with 1 Axes>"
      ]
     },
     "metadata": {
      "needs_background": "light"
     },
     "output_type": "display_data"
    }
   ],
   "source": [
    "avg_sal_location_table.plot(kind=\"bar\", figsize=(9,6))"
   ]
  },
  {
   "cell_type": "markdown",
   "id": "79a55a7b",
   "metadata": {},
   "source": [
    "- Location 'CL' has the highest average salary, followed by HU"
   ]
  },
  {
   "cell_type": "markdown",
   "id": "e1ef31de",
   "metadata": {},
   "source": [
    "#### In conclusion, the demand for data scientists is on the increase level, especially on the Mid-Level and Senior Level categories. Data Analytics Lead, Principal Data Engineers & Financial Data Analysts are the highest paid profession in the industry."
   ]
  },
  {
   "cell_type": "code",
   "execution_count": null,
   "id": "043c6b0d",
   "metadata": {},
   "outputs": [],
   "source": []
  }
 ],
 "metadata": {
  "kernelspec": {
   "display_name": "Python 3 (ipykernel)",
   "language": "python",
   "name": "python3"
  },
  "language_info": {
   "codemirror_mode": {
    "name": "ipython",
    "version": 3
   },
   "file_extension": ".py",
   "mimetype": "text/x-python",
   "name": "python",
   "nbconvert_exporter": "python",
   "pygments_lexer": "ipython3",
   "version": "3.9.12"
  }
 },
 "nbformat": 4,
 "nbformat_minor": 5
}
